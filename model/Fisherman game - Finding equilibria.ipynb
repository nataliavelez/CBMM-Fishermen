{
 "cells": [
  {
   "cell_type": "code",
   "execution_count": 1,
   "metadata": {
    "collapsed": true
   },
   "outputs": [],
   "source": [
    "from random import randint\n",
    "import numpy as np\n",
    "from numpy import ndarray as nd\n",
    "import json\n",
    "import os\n",
    "\n",
    "# Set random fishermen strengths and random number of trees\n",
    "strengths = [randint(1,3) for i in range(3)]\n",
    "ntrees = randint(1,3)"
   ]
  },
  {
   "cell_type": "code",
   "execution_count": 55,
   "metadata": {
    "collapsed": false
   },
   "outputs": [],
   "source": [
    "### HELPER: CALCULATE REWARDS\n",
    "# 'strengths' : array of (integer) player strengths\n",
    "# 'trees' : integer\n",
    "# 'action': array of booleans that is True wherever an agent went to fish\n",
    "\n",
    "# Returns 'fish_fished': integer describing payoff for current world\n",
    "def get_rewards(strengths, trees, actions):\n",
    "    n = range(len(strengths)) # Used for iteration\n",
    "    \n",
    "    # Calculate the number of trees cleared\n",
    "    trees_cleared = sum([strengths[i] for i in n if not actions[i]])\n",
    "    \n",
    "    # Calculate the payoff (which is 0 if the trees are still blocking the road)\n",
    "    fish_fished = sum([strengths[i] for i in n if actions[i]]) if trees_cleared >= trees else 0\n",
    "    \n",
    "    return fish_fished\n",
    "\n",
    "### HELPER: COMPUTE PAYOFF MATRIX\n",
    "# 'strengths' : array of (integer) player strengths\n",
    "# 'trees' : integer\n",
    "\n",
    "# Returns 'payoff_matrix': summary of payoffs for all possible actions\n",
    "def get_payoff_matrix(strengths, trees):\n",
    "    payoff_matrix = np.empty([2]*len(strengths)) # creates n-dimensional array\n",
    "    action_space = [0, 1] # possible actions\n",
    "    \n",
    "    # Calculate payoffs for each possible action\n",
    "    for x in action_space:\n",
    "        for y in action_space:\n",
    "            for z in action_space:\n",
    "                payoff_matrix[x, y, z] = get_rewards(strengths, trees, [x, y, z])\n",
    "                \n",
    "    return payoff_matrix\n",
    "\n",
    "# HELPER: FIND ALL SOLUTIONS IN PAYOFF MATRIX\n",
    "# 'payoff_matrix': Output of get_payoff_matrix\n",
    "\n",
    "# Returns 'solutions': a matrix of booleans that is 'true' if the given set of actions is an optimum solution\n",
    "def get_solutions(p):\n",
    "    return np.logical_and(p == np.amax(p), np.greater(p, 0))\n",
    "\n",
    "# Counts the number of equilibria in a given payoff matrix\n",
    "def n_solutions(strengths, trees):\n",
    "    payoff = get_payoff_matrix(strengths, trees)\n",
    "    solutions = get_solutions(payoff)\n",
    "    \n",
    "    return np.sum(solutions)\n",
    "\n",
    "def max_payoff(s,t):\n",
    "    return np.amax(get_payoff_matrix(s,t))\n",
    "\n",
    "def get_optimal_actions(strengths,trees):\n",
    "    payoff = get_payoff_matrix(strengths, trees)\n",
    "    solutions = get_solutions(payoff)\n",
    "    solution_indxs = np.where(solutions.flatten())\n",
    "    action_space = [[0,0,0],[0,0,1],[0,1,0],[0,1,1],[1,0,0],[1,0,1],[1,1,0],[1,1,1]] #based on actions in for loop\n",
    "    return [action_space[optimal_action] for optimal_action in solution_indxs[0]]"
   ]
  },
  {
   "cell_type": "code",
   "execution_count": 56,
   "metadata": {
    "collapsed": false
   },
   "outputs": [],
   "source": [
    "# Iterate over all possible actions\n",
    "all_strengths = [[x, y, z] for x in range(1,4) for y in range(1,4) for z in range(1,4)]\n",
    "all_scenarios = [(s, t, n_solutions(s, t), max_payoff(s,t)) for s in all_strengths for t in range(1,4)]\n",
    "n_solns = [n_solutions(s[0], s[1]) for s in all_scenarios]\n",
    "\n",
    "possible_solns = np.unique(n_solns)\n",
    "scenario_groups = [[s[0] for s in zip(all_scenarios, n_solns) if s[1] == u] for u in possible_solns]\n",
    "scenarios = dict(zip(possible_solns, scenario_groups))\n",
    "\n",
    "keys = ['strengths', 'trees', 'n_solutions', 'max_payoff']\n",
    "\n",
    "scenario_info = [[dict(zip(keys, trial)) for trial in group] for group in scenario_groups]\n",
    "\n",
    "#scenario_info = [dict(zip(keys, trial)) for group in scenario_groups for trial in group]"
   ]
  },
  {
   "cell_type": "code",
   "execution_count": 59,
   "metadata": {
    "collapsed": false
   },
   "outputs": [
    {
     "name": "stdout",
     "output_type": "stream",
     "text": [
      "[[1, 1, 2], [1, 1, 2], [1, 1, 2], [1, 1, 3], [1, 2, 1], [1, 2, 1], [1, 2, 1], [1, 2, 2], [1, 2, 2], [1, 2, 3], [1, 3, 1], [1, 3, 2], [1, 3, 3], [1, 3, 3], [2, 1, 1], [2, 1, 1], [2, 1, 1], [2, 1, 2], [2, 1, 2], [2, 1, 3], [2, 2, 1], [2, 2, 1], [2, 2, 3], [2, 2, 3], [2, 3, 1], [2, 3, 2], [2, 3, 2], [2, 3, 3], [3, 1, 1], [3, 1, 2], [3, 1, 3], [3, 1, 3], [3, 2, 1], [3, 2, 2], [3, 2, 2], [3, 2, 3], [3, 3, 1], [3, 3, 1], [3, 3, 2]]\n",
      "[1, 2, 3, 1, 1, 2, 3, 2, 3, 3, 1, 3, 2, 3, 1, 2, 3, 2, 3, 3, 2, 3, 1, 2, 3, 1, 2, 3, 1, 3, 2, 3, 3, 1, 2, 3, 2, 3, 3]\n",
      "actions\n",
      "[[[0, 1, 1], [1, 0, 1]], [[0, 0, 1], [1, 1, 0]], [[0, 1, 0], [1, 0, 0]], [[0, 1, 1], [1, 0, 1]], [[0, 1, 1], [1, 1, 0]], [[0, 1, 0], [1, 0, 1]], [[0, 0, 1], [1, 0, 0]], [[1, 0, 1], [1, 1, 0]], [[0, 0, 1], [0, 1, 0]], [[0, 0, 1], [1, 1, 0]], [[0, 1, 1], [1, 1, 0]], [[0, 1, 0], [1, 0, 1]], [[1, 0, 1], [1, 1, 0]], [[1, 0, 1], [1, 1, 0]], [[1, 0, 1], [1, 1, 0]], [[0, 1, 1], [1, 0, 0]], [[0, 0, 1], [0, 1, 0]], [[0, 1, 1], [1, 1, 0]], [[0, 0, 1], [1, 0, 0]], [[0, 0, 1], [1, 1, 0]], [[0, 1, 1], [1, 0, 1]], [[0, 1, 0], [1, 0, 0]], [[0, 1, 1], [1, 0, 1]], [[0, 1, 1], [1, 0, 1]], [[0, 1, 0], [1, 0, 1]], [[0, 1, 1], [1, 1, 0]], [[0, 1, 1], [1, 1, 0]], [[1, 0, 1], [1, 1, 0]], [[1, 0, 1], [1, 1, 0]], [[0, 1, 1], [1, 0, 0]], [[0, 1, 1], [1, 1, 0]], [[0, 1, 1], [1, 1, 0]], [[0, 1, 1], [1, 0, 0]], [[1, 0, 1], [1, 1, 0]], [[1, 0, 1], [1, 1, 0]], [[0, 1, 1], [1, 1, 0]], [[0, 1, 1], [1, 0, 1]], [[0, 1, 1], [1, 0, 1]], [[0, 1, 1], [1, 0, 1]]]\n",
      "[[1, 1, 1], [1, 1, 1], [2, 2, 2], [2, 2, 2], [2, 2, 2], [3, 3, 3], [3, 3, 3], [3, 3, 3]]\n",
      "[1, 2, 1, 2, 3, 1, 2, 3]\n",
      "actions\n",
      "[[[0, 1, 1], [1, 0, 1], [1, 1, 0]], [[0, 0, 1], [0, 1, 0], [1, 0, 0]], [[0, 1, 1], [1, 0, 1], [1, 1, 0]], [[0, 1, 1], [1, 0, 1], [1, 1, 0]], [[0, 0, 1], [0, 1, 0], [1, 0, 0]], [[0, 1, 1], [1, 0, 1], [1, 1, 0]], [[0, 1, 1], [1, 0, 1], [1, 1, 0]], [[0, 1, 1], [1, 0, 1], [1, 1, 0]]]\n",
      "[[1, 1, 3], [1, 1, 3], [1, 2, 2], [1, 2, 3], [1, 2, 3], [1, 3, 1], [1, 3, 1], [1, 3, 2], [1, 3, 2], [1, 3, 3], [2, 1, 2], [2, 1, 3], [2, 1, 3], [2, 2, 1], [2, 2, 3], [2, 3, 1], [2, 3, 1], [2, 3, 2], [2, 3, 3], [2, 3, 3], [3, 1, 1], [3, 1, 1], [3, 1, 2], [3, 1, 2], [3, 1, 3], [3, 2, 1], [3, 2, 1], [3, 2, 2], [3, 2, 3], [3, 2, 3], [3, 3, 1], [3, 3, 2], [3, 3, 2]]\n",
      "[2, 3, 1, 1, 2, 2, 3, 1, 2, 1, 1, 1, 2, 1, 3, 1, 2, 3, 1, 2, 2, 3, 1, 2, 1, 1, 2, 3, 1, 2, 1, 1, 2]\n",
      "actions\n",
      "[[[0, 0, 1]], [[1, 1, 0]], [[0, 1, 1]], [[0, 1, 1]], [[1, 0, 1]], [[0, 1, 0]], [[1, 0, 1]], [[0, 1, 1]], [[1, 1, 0]], [[0, 1, 1]], [[1, 0, 1]], [[1, 0, 1]], [[0, 1, 1]], [[1, 1, 0]], [[1, 1, 0]], [[1, 1, 0]], [[0, 1, 1]], [[1, 0, 1]], [[0, 1, 1]], [[0, 1, 1]], [[1, 0, 0]], [[0, 1, 1]], [[1, 0, 1]], [[1, 1, 0]], [[1, 0, 1]], [[1, 1, 0]], [[1, 0, 1]], [[0, 1, 1]], [[1, 0, 1]], [[1, 0, 1]], [[1, 1, 0]], [[1, 1, 0]], [[1, 1, 0]]]\n"
     ]
    }
   ],
   "source": [
    "all_2_trials = [s for s in range(0,len(all_scenarios)) if all_scenarios[s][2] == 2 ]\n",
    "strengths2 = [all_scenarios[s][0] for s in all_2_trials]\n",
    "trees2 = [all_scenarios[s][1] for s in all_2_trials]\n",
    "actions2 = [get_optimal_actions(strength, trees) for strength,trees in zip(strengths2, trees2)]\n",
    "\n",
    "all_3_trials = [s for s in range(0,len(all_scenarios)) if all_scenarios[s][2] == 3 ]\n",
    "strengths3 = [all_scenarios[s][0] for s in all_3_trials]\n",
    "trees3 = [all_scenarios[s][1] for s in all_3_trials]\n",
    "actions3 = [get_optimal_actions(strength, trees) for strength,trees in zip(strengths3, trees3)]\n",
    "\n",
    "all_1_trials = [s for s in range(0,len(all_scenarios)) if all_scenarios[s][2] == 1 ]\n",
    "strengths1 = [all_scenarios[s][0] for s in all_1_trials]\n",
    "trees1 = [all_scenarios[s][1] for s in all_1_trials]\n",
    "actions1 = [get_optimal_actions(strength, trees) for strength,trees in zip(strengths1, trees1)]\n",
    "\n",
    "actions = get_optimal_actions([1,1,2],2)\n",
    "print strengths2\n",
    "print trees2\n",
    "print 'actions'\n",
    "print actions2\n",
    "\n",
    "print strengths3\n",
    "print trees3\n",
    "print 'actions'\n",
    "print actions3\n",
    "\n",
    "print strengths1\n",
    "print trees1\n",
    "print 'actions'\n",
    "print actions1"
   ]
  },
  {
   "cell_type": "code",
   "execution_count": 15,
   "metadata": {
    "collapsed": false
   },
   "outputs": [],
   "source": [
    "with open('scenarios.json', 'w') as f:\n",
    "     json.dump(scenario_info, f)"
   ]
  },
  {
   "cell_type": "code",
   "execution_count": 6,
   "metadata": {
    "collapsed": false
   },
   "outputs": [
    {
     "ename": "ValueError",
     "evalue": "Cannot take a larger sample than population when 'replace=False'",
     "output_type": "error",
     "traceback": [
      "\u001b[0;31m---------------------------------------------------------------------------\u001b[0m",
      "\u001b[0;31mValueError\u001b[0m                                Traceback (most recent call last)",
      "\u001b[0;32m<ipython-input-6-20594801bd32>\u001b[0m in \u001b[0;36m<module>\u001b[0;34m()\u001b[0m\n\u001b[1;32m      4\u001b[0m              for i in range(wanted_parts) ]\n\u001b[1;32m      5\u001b[0m \u001b[0;34m\u001b[0m\u001b[0m\n\u001b[0;32m----> 6\u001b[0;31m \u001b[0mrandom_subset\u001b[0m \u001b[0;34m=\u001b[0m \u001b[0;34m[\u001b[0m\u001b[0mnp\u001b[0m\u001b[0;34m.\u001b[0m\u001b[0mrandom\u001b[0m\u001b[0;34m.\u001b[0m\u001b[0mchoice\u001b[0m\u001b[0;34m(\u001b[0m\u001b[0mgroup\u001b[0m\u001b[0;34m,\u001b[0m \u001b[0msize\u001b[0m \u001b[0;34m=\u001b[0m \u001b[0;36m8\u001b[0m\u001b[0;34m,\u001b[0m \u001b[0mreplace\u001b[0m \u001b[0;34m=\u001b[0m \u001b[0mFalse\u001b[0m\u001b[0;34m)\u001b[0m \u001b[0;32mfor\u001b[0m \u001b[0mgroup\u001b[0m \u001b[0;32min\u001b[0m \u001b[0mscenario_info\u001b[0m\u001b[0;34m]\u001b[0m\u001b[0;34m\u001b[0m\u001b[0m\n\u001b[0m\u001b[1;32m      7\u001b[0m \u001b[0mrandom_subset\u001b[0m \u001b[0;34m=\u001b[0m \u001b[0mnp\u001b[0m\u001b[0;34m.\u001b[0m\u001b[0mvstack\u001b[0m\u001b[0;34m(\u001b[0m\u001b[0mrandom_subset\u001b[0m\u001b[0;34m)\u001b[0m\u001b[0;34m.\u001b[0m\u001b[0mreshape\u001b[0m\u001b[0;34m(\u001b[0m\u001b[0;34m(\u001b[0m\u001b[0;34m-\u001b[0m\u001b[0;36m1\u001b[0m\u001b[0;34m,\u001b[0m\u001b[0;34m)\u001b[0m\u001b[0;34m,\u001b[0m\u001b[0morder\u001b[0m\u001b[0;34m=\u001b[0m\u001b[0;34m'F'\u001b[0m\u001b[0;34m)\u001b[0m\u001b[0;34m\u001b[0m\u001b[0m\n\u001b[1;32m      8\u001b[0m \u001b[0mrandom_subset\u001b[0m \u001b[0;34m=\u001b[0m \u001b[0msplit_list\u001b[0m\u001b[0;34m(\u001b[0m\u001b[0mrandom_subset\u001b[0m\u001b[0;34m,\u001b[0m \u001b[0;36m8\u001b[0m\u001b[0;34m)\u001b[0m\u001b[0;34m\u001b[0m\u001b[0m\n",
      "\u001b[0;32mmtrand.pyx\u001b[0m in \u001b[0;36mmtrand.RandomState.choice (numpy/random/mtrand/mtrand.c:12517)\u001b[0;34m()\u001b[0m\n",
      "\u001b[0;31mValueError\u001b[0m: Cannot take a larger sample than population when 'replace=False'"
     ]
    }
   ],
   "source": [
    "def split_list(alist, wanted_parts=1):\n",
    "    length = len(alist)\n",
    "    return [ alist[i*length // wanted_parts: (i+1)*length // wanted_parts] \n",
    "             for i in range(wanted_parts) ]\n",
    "\n",
    "random_subset = [np.random.choice(group, size = 8, replace = False) for group in scenario_info]\n",
    "random_subset = np.vstack(random_subset).reshape((-1,),order='F')\n",
    "random_subset = split_list(random_subset, 8)\n",
    "random_subset = [np.random.permutation(block) for block in random_subset]\n",
    "random_subset = np.vstack(ranom_subset).reshape(-1,)\n",
    "\n"
   ]
  },
  {
   "cell_type": "code",
   "execution_count": 27,
   "metadata": {
    "collapsed": false
   },
   "outputs": [],
   "source": [
    "with open('test_trials.json', 'w') as f:\n",
    "    json.dump(list(random_subset), f)"
   ]
  },
  {
   "cell_type": "code",
   "execution_count": 9,
   "metadata": {
    "collapsed": false
   },
   "outputs": [],
   "source": []
  },
  {
   "cell_type": "code",
   "execution_count": null,
   "metadata": {
    "collapsed": true
   },
   "outputs": [],
   "source": []
  }
 ],
 "metadata": {
  "anaconda-cloud": {},
  "kernelspec": {
   "display_name": "Python [default]",
   "language": "python",
   "name": "python2"
  },
  "language_info": {
   "codemirror_mode": {
    "name": "ipython",
    "version": 2
   },
   "file_extension": ".py",
   "mimetype": "text/x-python",
   "name": "python",
   "nbconvert_exporter": "python",
   "pygments_lexer": "ipython2",
   "version": "2.7.12"
  }
 },
 "nbformat": 4,
 "nbformat_minor": 0
}
