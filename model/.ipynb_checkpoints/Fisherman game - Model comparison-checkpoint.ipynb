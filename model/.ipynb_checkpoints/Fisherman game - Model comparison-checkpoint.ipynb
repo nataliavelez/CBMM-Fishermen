{
 "cells": [
  {
   "cell_type": "markdown",
   "metadata": {},
   "source": [
    "# Fisherman Game\n",
    "Natalia Vélez, Kelsey Allen & Josh Tenenbaum, CBMM 2016\n",
    "\n",
    "## Setup\n",
    "\n",
    "Loading dependencies"
   ]
  },
  {
   "cell_type": "code",
   "execution_count": 2,
   "metadata": {
    "collapsed": true
   },
   "outputs": [],
   "source": [
    "from subprocess import Popen, PIPE, call\n",
    "import time\n",
    "import sys\n",
    "import os\n",
    "import numpy as np\n",
    "import matplotlib.pyplot as plt\n",
    "import re\n",
    "import pdb\n",
    "import itertools"
   ]
  },
  {
   "cell_type": "markdown",
   "metadata": {},
   "source": [
    "## Action prediction"
   ]
  },
  {
   "cell_type": "code",
   "execution_count": 3,
   "metadata": {
    "collapsed": false
   },
   "outputs": [
    {
     "name": "stdout",
     "output_type": "stream",
     "text": [
      "0.5\n"
     ]
    }
   ],
   "source": [
    "def getRewards_multi(strengths,trees):\n",
    "    n = len(strengths) #number of fishermen\n",
    "    R = np.zeros(np.power(2,n))\n",
    "    truth_table = np.asarray(list(itertools.product([True, False], repeat=n)))\n",
    "\n",
    "    for i in range(0,np.power(2,n)):\n",
    "        \n",
    "        tree_guys = [j for j, x in enumerate(truth_table[i,:]) if x] #who is getting the trees\n",
    "        fish_guys = list(set(range(n)) - set(tree_guys))\n",
    "        \n",
    "        strength_sum = np.sum([strengths[tree_guy] for tree_guy in tree_guys]) #total strength of guys going for trees\n",
    "        if strength_sum >= trees:\n",
    "            R[i] = np.sum([strengths[fish_guy] for fish_guy in fish_guys]) #fish caught if trees are cleared\n",
    "\n",
    "    return R\n",
    "\n",
    "#Take in the probability of agent1, agent 2 and agent 3 choosing \"0\", and return expected reward table\n",
    "def makeRP_multi(R,probs):\n",
    "    RP = np.zeros(R.shape)\n",
    "    n = probs.shape[0]\n",
    "    truth_table = np.asarray(list(itertools.product([True, False], repeat=n)))\n",
    "    \n",
    "    for i in range(0,len(truth_table)):\n",
    "\n",
    "        tree_guys = [j for j, x in enumerate(truth_table[i,:]) if x] #who is getting the trees\n",
    "        fish_guys = list(set(range(n)) - set(tree_guys))\n",
    "        \n",
    "        prob_row = [probs[j] for j in tree_guys]\n",
    "        prob_row = prob_row+([(1-probs[j]) for j in fish_guys])\n",
    "        prob_row.append(R[i])\n",
    "        \n",
    "        RP[i] = np.product(prob_row)\n",
    "        \n",
    "        return RP\n",
    "\n",
    "def logit(u, lam):\n",
    "    \"\"\" vector of utilities\n",
    "    \"\"\"\n",
    "    return np.exp(lam * u) / np.sum(np.exp(lam * u))\n",
    "\n",
    "def QRE_multi(R,t,lam):\n",
    "    if np.sum(R) != 0:\n",
    "        n = int(np.log2(len(R)))\n",
    "        probs = 0.5*np.ones((n))\n",
    "        truth_table = np.asarray(list(itertools.product([True, False], repeat=n)))\n",
    "        utils = np.zeros(2)\n",
    "\n",
    "        '''for agent in range(0,n):\n",
    "        indices = list(itertools.compress(xrange(len(truth_table[:,agent])), truth_table[:,agent]))\n",
    "        probs[agent] = np.sum([R[i] for i in indices])/np.sum(R)\n",
    "        '''\n",
    "        for i in xrange(t):\n",
    "            RP = makeRP_multi(R, probs)\n",
    "            for agent in range(0,n):\n",
    "                indices = list(itertools.compress(xrange(len(truth_table[:,agent])), truth_table[:,agent]))\n",
    "                utils[1] = 1./probs[agent]*np.sum([RP[index] for index in indices])\n",
    "                utils[0] = 1./(1-probs[agent])*np.sum([RP[index] for index in list(set(xrange(len(R)))-set(indices))])\n",
    "\n",
    "                probs[agent] = logit(utils,lam)[1]\n",
    "\n",
    "        return probs[0] #probability that fisherman A should clear trees\n",
    "    else:\n",
    "        return 1\n",
    "\n",
    "R = getRewards_multi([2,1,1],2)\n",
    "p_multi = QRE_multi(R,2,2.5)\n",
    "print p_multi\n"
   ]
  },
  {
   "cell_type": "markdown",
   "metadata": {},
   "source": [
    "## Allocating blame"
   ]
  },
  {
   "cell_type": "code",
   "execution_count": 4,
   "metadata": {
    "collapsed": false
   },
   "outputs": [
    {
     "name": "stdout",
     "output_type": "stream",
     "text": [
      "0.5\n"
     ]
    },
    {
     "ename": "IndexError",
     "evalue": "invalid index to scalar variable.",
     "output_type": "error",
     "traceback": [
      "\u001b[0;31m---------------------------------------------------------------------------\u001b[0m",
      "\u001b[0;31mIndexError\u001b[0m                                Traceback (most recent call last)",
      "\u001b[0;32m<ipython-input-4-f878a3e5e293>\u001b[0m in \u001b[0;36m<module>\u001b[0;34m()\u001b[0m\n\u001b[1;32m     47\u001b[0m \u001b[0;32mprint\u001b[0m \u001b[0mp_multi\u001b[0m\u001b[0;34m\u001b[0m\u001b[0m\n\u001b[1;32m     48\u001b[0m \u001b[0;31m#pdb.set_trace()\u001b[0m\u001b[0;34m\u001b[0m\u001b[0;34m\u001b[0m\u001b[0m\n\u001b[0;32m---> 49\u001b[0;31m \u001b[0mp_blame\u001b[0m \u001b[0;34m=\u001b[0m \u001b[0mQRE_pivotal_optimal\u001b[0m\u001b[0;34m(\u001b[0m\u001b[0mR\u001b[0m\u001b[0;34m,\u001b[0m\u001b[0mt\u001b[0m\u001b[0;34m,\u001b[0m\u001b[0mlam\u001b[0m\u001b[0;34m,\u001b[0m\u001b[0mchoices\u001b[0m\u001b[0;34m,\u001b[0m \u001b[0magent\u001b[0m\u001b[0;34m,\u001b[0m \u001b[0mw\u001b[0m\u001b[0;34m)\u001b[0m\u001b[0;34m\u001b[0m\u001b[0m\n\u001b[0m\u001b[1;32m     50\u001b[0m \u001b[0;32mprint\u001b[0m \u001b[0mp_blame\u001b[0m\u001b[0;34m\u001b[0m\u001b[0m\n\u001b[1;32m     51\u001b[0m \u001b[0;34m\u001b[0m\u001b[0m\n",
      "\u001b[0;32m<ipython-input-4-f878a3e5e293>\u001b[0m in \u001b[0;36mQRE_pivotal_optimal\u001b[0;34m(R, t, lam, choices, agent, w)\u001b[0m\n\u001b[1;32m     29\u001b[0m \u001b[0;32mdef\u001b[0m \u001b[0mQRE_pivotal_optimal\u001b[0m\u001b[0;34m(\u001b[0m\u001b[0mR\u001b[0m\u001b[0;34m,\u001b[0m\u001b[0mt\u001b[0m\u001b[0;34m,\u001b[0m\u001b[0mlam\u001b[0m\u001b[0;34m,\u001b[0m\u001b[0mchoices\u001b[0m\u001b[0;34m,\u001b[0m\u001b[0magent\u001b[0m\u001b[0;34m,\u001b[0m\u001b[0mw\u001b[0m\u001b[0;34m)\u001b[0m\u001b[0;34m:\u001b[0m\u001b[0;34m\u001b[0m\u001b[0m\n\u001b[1;32m     30\u001b[0m         \u001b[0;31m#pdb.set_trace()\u001b[0m\u001b[0;34m\u001b[0m\u001b[0;34m\u001b[0m\u001b[0m\n\u001b[0;32m---> 31\u001b[0;31m         \u001b[0mp_trees\u001b[0m \u001b[0;34m=\u001b[0m \u001b[0mQRE_multi\u001b[0m\u001b[0;34m(\u001b[0m\u001b[0mR\u001b[0m\u001b[0;34m,\u001b[0m\u001b[0mt\u001b[0m\u001b[0;34m,\u001b[0m\u001b[0mlam\u001b[0m\u001b[0;34m)\u001b[0m\u001b[0;34m[\u001b[0m\u001b[0magent\u001b[0m\u001b[0;34m]\u001b[0m\u001b[0;34m\u001b[0m\u001b[0m\n\u001b[0m\u001b[1;32m     32\u001b[0m \u001b[0;34m\u001b[0m\u001b[0m\n\u001b[1;32m     33\u001b[0m         \u001b[0mpivotal\u001b[0m \u001b[0;34m=\u001b[0m \u001b[0mgetPivotalityOptimal\u001b[0m\u001b[0;34m(\u001b[0m\u001b[0mR\u001b[0m\u001b[0;34m,\u001b[0m\u001b[0mchoices\u001b[0m\u001b[0;34m,\u001b[0m\u001b[0magent\u001b[0m\u001b[0;34m)\u001b[0m\u001b[0;34m\u001b[0m\u001b[0m\n",
      "\u001b[0;31mIndexError\u001b[0m: invalid index to scalar variable."
     ]
    }
   ],
   "source": [
    "#Blame addition\n",
    "def getPivotalityOptimal(R,choices,agent):\n",
    "    n = len(choices)\n",
    "    truth_table = np.asarray(list(itertools.product([1, 0], repeat=n)))\n",
    "    \n",
    "    if np.sum(R.flatten()) ==0: #checking for cases where it's impossible to get any reward\n",
    "        best_idxs = np.array([[1,1,1]])\n",
    "    else:\n",
    "        idxs = np.argwhere(R == np.amax(R))\n",
    "        best_idxs = np.asarray([truth_table[index].flatten() for index in idxs])\n",
    "        \n",
    "    if all([idx == choices[agent] for idx in best_idxs[:,agent]]):\n",
    "        return 0\n",
    "    else:\n",
    "        all_changes = np.transpose([abs(best_choice-np.array(choices)) for best_choice in best_idxs]) #gets all the changes for each of the optimal scenarios\n",
    "        changes = sum(all_changes) #formatting list basically (with empty entries)\n",
    "        min_best = np.argwhere(abs(changes - int(np.amin(changes))) < 0.000001) #finds closest optimal choices\n",
    "        if all(best_idxs[min_best.flatten()][:,agent] == choices[agent]): #if closest optimal world has same choice as agent, no pivotality\n",
    "            return 0\n",
    "        elif len(min_best.flatten()) > 1 and not all(best_idxs[min_best.flatten()][:,agent] == 1 - choices[agent]) and choices[agent]==1: #handling edge cases\n",
    "            idx_use = np.argwhere(best_idxs[:,agent] == choices[agent])\n",
    "            return 1./(changes[idx_use].flatten()[0]+1)\n",
    "        else:\n",
    "            return 1./np.min(changes)\n",
    "\n",
    "def QRE_pivotal_optimal(R,t,lam,choices,agent,w):\n",
    "    p_trees = QRE_multi(R,t,lam)[agent]\n",
    "\n",
    "    pivotal = getPivotalityOptimal(R,choices,agent)\n",
    "    if choices[agent] == 0:\n",
    "        return p_trees*w + (1-w)*pivotal\n",
    "    else:\n",
    "        return (1-p_trees)*w + (1-w)*pivotal\n",
    "\n",
    "choices = [0,0,0]\n",
    "agent = 0\n",
    "w = 0.6\n",
    "t = 2\n",
    "lam = 2.5\n",
    "\n",
    "R = getRewards_multi([2,1,1],2)\n",
    "p_multi = QRE_multi(R,t,lam)\n",
    "print p_multi\n",
    "p_blame = QRE_pivotal_optimal(R,t,lam,choices, agent, w)\n",
    "print p_blame\n",
    "\n"
   ]
  },
  {
   "cell_type": "code",
   "execution_count": null,
   "metadata": {
    "collapsed": true
   },
   "outputs": [],
   "source": []
  }
 ],
 "metadata": {
  "kernelspec": {
   "display_name": "Python 2",
   "language": "python",
   "name": "python2"
  },
  "language_info": {
   "codemirror_mode": {
    "name": "ipython",
    "version": 2
   },
   "file_extension": ".py",
   "mimetype": "text/x-python",
   "name": "python",
   "nbconvert_exporter": "python",
   "pygments_lexer": "ipython2",
   "version": "2.7.11"
  }
 },
 "nbformat": 4,
 "nbformat_minor": 0
}
