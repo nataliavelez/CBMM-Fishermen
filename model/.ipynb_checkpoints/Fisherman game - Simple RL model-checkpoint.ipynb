{
 "cells": [
  {
   "cell_type": "code",
   "execution_count": 2,
   "metadata": {
    "collapsed": false
   },
   "outputs": [
    {
     "name": "stdout",
     "output_type": "stream",
     "text": [
      "0.818816524516\n"
     ]
    }
   ],
   "source": [
    "from subprocess import Popen, PIPE, call\n",
    "import time\n",
    "import sys\n",
    "import os\n",
    "import numpy as np\n",
    "import matplotlib.pyplot as plt\n",
    "import re\n",
    "import pdb\n",
    "import itertools\n",
    "\n",
    "def getRewards_multi(strengths,trees):\n",
    "    n = len(strengths) #number of fishermen\n",
    "    R = np.zeros(np.power(2,n))\n",
    "    truth_table = np.asarray(list(itertools.product([True, False], repeat=n)))\n",
    "\n",
    "    for i in range(0,np.power(2,n)):\n",
    "    \n",
    "        tree_guys = [j for j, x in enumerate(truth_table[i,:]) if x] #who is getting the trees\n",
    "        fish_guys = list(set(range(n)) - set(tree_guys))\n",
    "\n",
    "        strength_sum = np.sum([strengths[tree_guy] for tree_guy in tree_guys]) #total strength of guys going for trees\n",
    "        if strength_sum >= trees:\n",
    "            R[i] = np.sum([strengths[fish_guy] for fish_guy in fish_guys]) #fish caught if trees are cleared\n",
    "    \n",
    "    return R\n",
    "    \n",
    "#Take in the probability of agent1, agent 2 and agent 3 choosing \"0\", and return expected reward table\n",
    "def makeRP_multi(R,probs):\n",
    "    RP = np.zeros(R.shape)\n",
    "    n = probs.shape[0]\n",
    "    truth_table = np.asarray(list(itertools.product([True, False], repeat=n)))\n",
    "    \n",
    "    for i in range(0,len(truth_table)):\n",
    "\n",
    "        tree_guys = [j for j, x in enumerate(truth_table[i,:]) if x] #who is getting the trees\n",
    "        fish_guys = list(set(range(n)) - set(tree_guys))\n",
    "\n",
    "        prob_row = [probs[j] for j in tree_guys]\n",
    "        prob_row = prob_row+([(1-probs[j]) for j in fish_guys])\n",
    "        prob_row.append(R[i])\n",
    "\n",
    "        RP[i] = np.product(prob_row)\n",
    "\n",
    "    return RP\n",
    "\n",
    "def logit(u, lam):\n",
    "    \"\"\" vector of utilities\n",
    "    \"\"\"\n",
    "    return np.exp(lam * u) / np.sum(np.exp(lam * u))\n",
    "\n",
    "def QRE_multi(R,t,lam, probs):\n",
    "    if np.sum(R) != 0:\n",
    "        n = int(np.log2(len(R)))\n",
    "        truth_table = np.asarray(list(itertools.product([True, False], repeat=n)))\n",
    "        utils = np.zeros(2)\n",
    "    \n",
    "        for i in xrange(t):\n",
    "            RP = makeRP_multi(R, probs)\n",
    "            #pdb.set_trace()\n",
    "            for agent in range(0,n):\n",
    "                indices = list(itertools.compress(xrange(len(truth_table[:,agent])), truth_table[:,agent]))\n",
    "                utils[1] = 1./probs[agent]*np.sum([RP[index] for index in indices])\n",
    "                utils[0] = 1./(1-probs[agent])*np.sum([RP[index] for index in list(set(xrange(len(R)))-set(indices))])\n",
    "\n",
    "                probs[agent] = logit(utils,lam)[1]\n",
    "\n",
    "        return probs[0] #probability that fisherman A should clear trees\n",
    "\n",
    "    else:\n",
    "        return 1\n",
    "\n",
    "R = getRewards_multi([1,1,1],1)\n",
    "p_multi = QRE_multi(R,2,2.5, np.array([.5, .5, .5]))\n",
    "print p_multi"
   ]
  },
  {
   "cell_type": "code",
   "execution_count": null,
   "metadata": {
    "collapsed": true
   },
   "outputs": [],
   "source": []
  }
 ],
 "metadata": {
  "kernelspec": {
   "display_name": "Python 2",
   "language": "python",
   "name": "python2"
  },
  "language_info": {
   "codemirror_mode": {
    "name": "ipython",
    "version": 2
   },
   "file_extension": ".py",
   "mimetype": "text/x-python",
   "name": "python",
   "nbconvert_exporter": "python",
   "pygments_lexer": "ipython2",
   "version": "2.7.11"
  }
 },
 "nbformat": 4,
 "nbformat_minor": 0
}
